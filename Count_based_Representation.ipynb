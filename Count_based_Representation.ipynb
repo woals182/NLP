{
  "cells": [
    {
      "cell_type": "markdown",
      "metadata": {
        "id": "Fon1gvE36a9Q"
      },
      "source": [
        "## 1. 데이터 전처리 (Text preprocessing)"
      ]
    },
    {
      "cell_type": "code",
      "execution_count": null,
      "metadata": {
        "colab": {
          "base_uri": "https://localhost:8080/"
        },
        "id": "iUi_CFIHua8v",
        "outputId": "16666383-6151-460f-b763-831f632079ef"
      },
      "outputs": [
        {
          "name": "stdout",
          "output_type": "stream",
          "text": [
            "Looking in indexes: https://pypi.org/simple, https://us-python.pkg.dev/colab-wheels/public/simple/\n",
            "Requirement already satisfied: squarify in /usr/local/lib/python3.7/dist-packages (0.4.3)\n"
          ]
        }
      ],
      "source": [
        "!pip install squarify"
      ]
    },
    {
      "cell_type": "code",
      "execution_count": null,
      "metadata": {
        "id": "cnvZzxM4EVMh"
      },
      "outputs": [],
      "source": [
        "import re\n",
        "import string\n",
        "import spacy\n",
        "from spacy.tokenizer import Tokenizer\n",
        "from collections import Counter\n",
        "\n",
        "import numpy as np\n",
        "import pandas as pd\n",
        "import matplotlib.pyplot as plt\n",
        "\n",
        "import squarify\n",
        "import seaborn as sns\n",
        "\n",
        "from sklearn.feature_extraction.text import TfidfVectorizer\n",
        "from sklearn.neighbors import NearestNeighbors\n",
        "\n",
        "from sklearn.model_selection import train_test_split\n",
        "from sklearn.tree import DecisionTreeClassifier\n",
        "from sklearn.metrics import classification_report\n",
        "\n",
        "import warnings\n",
        "warnings.filterwarnings('ignore')"
      ]
    },
    {
      "cell_type": "markdown",
      "metadata": {
        "id": "3Omo3_B1FT_I"
      },
      "source": [
        "- 파일을 불러온 후 title, company, description Column만 남기기\n",
        "- 중복값을 제거"
      ]
    },
    {
      "cell_type": "code",
      "execution_count": null,
      "metadata": {
        "id": "IwdNT6hmEPhq"
      },
      "outputs": [],
      "source": [
        "df = pd.read_csv('https://ds-lecture-data.s3.ap-northeast-2.amazonaws.com/indeed/Data_Scientist.csv')"
      ]
    },
    {
      "cell_type": "code",
      "execution_count": null,
      "metadata": {
        "id": "wCzz0tkxLxgU"
      },
      "outputs": [],
      "source": [
        "df1 = df.copy()\n",
        "df1 = df1.drop(['Unnamed: 0','url'],axis=1)"
      ]
    },
    {
      "cell_type": "code",
      "execution_count": null,
      "metadata": {
        "id": "mvM3kabJM--o"
      },
      "outputs": [],
      "source": [
        "df2 = df1.drop_duplicates(['description'],keep='last')"
      ]
    },
    {
      "cell_type": "code",
      "execution_count": null,
      "metadata": {
        "colab": {
          "base_uri": "https://localhost:8080/",
          "height": 423
        },
        "id": "sc7cB1i5PxR6",
        "outputId": "4277591f-83b2-46d4-d01c-44b858142dc9"
      },
      "outputs": [
        {
          "data": {
            "text/html": [
              "\n",
              "  <div id=\"df-c2c8b149-7256-451a-87f6-adca25b4ec12\">\n",
              "    <div class=\"colab-df-container\">\n",
              "      <div>\n",
              "<style scoped>\n",
              "    .dataframe tbody tr th:only-of-type {\n",
              "        vertical-align: middle;\n",
              "    }\n",
              "\n",
              "    .dataframe tbody tr th {\n",
              "        vertical-align: top;\n",
              "    }\n",
              "\n",
              "    .dataframe thead th {\n",
              "        text-align: right;\n",
              "    }\n",
              "</style>\n",
              "<table border=\"1\" class=\"dataframe\">\n",
              "  <thead>\n",
              "    <tr style=\"text-align: right;\">\n",
              "      <th></th>\n",
              "      <th>title</th>\n",
              "      <th>company</th>\n",
              "      <th>description</th>\n",
              "    </tr>\n",
              "  </thead>\n",
              "  <tbody>\n",
              "    <tr>\n",
              "      <th>1</th>\n",
              "      <td>Data Scientist (Structured Products)</td>\n",
              "      <td>EquiTrust Life Insurance Company</td>\n",
              "      <td>Job Details\\nDescription\\nEssential Duties and...</td>\n",
              "    </tr>\n",
              "    <tr>\n",
              "      <th>3</th>\n",
              "      <td>Specialist, Data Science</td>\n",
              "      <td>Nationwide</td>\n",
              "      <td>As a team member in the Finance and Internal A...</td>\n",
              "    </tr>\n",
              "    <tr>\n",
              "      <th>4</th>\n",
              "      <td>Sr. Data Scientist (Remote)</td>\n",
              "      <td>American Credit Acceptance</td>\n",
              "      <td>Overview:\\nAmerican Credit Acceptance seeks a ...</td>\n",
              "    </tr>\n",
              "    <tr>\n",
              "      <th>5</th>\n",
              "      <td>Data Scientist Associate Sr (DADS06) BTB - LEG...</td>\n",
              "      <td>JPMorgan Chase Bank, N.A.</td>\n",
              "      <td>J.P. Morgan's Corporate &amp; Investment Bank (CIB...</td>\n",
              "    </tr>\n",
              "    <tr>\n",
              "      <th>6</th>\n",
              "      <td>Data Scientist</td>\n",
              "      <td>VyStar Credit Union</td>\n",
              "      <td>At VyStar, we offer competitive pay, an excell...</td>\n",
              "    </tr>\n",
              "    <tr>\n",
              "      <th>...</th>\n",
              "      <td>...</td>\n",
              "      <td>...</td>\n",
              "      <td>...</td>\n",
              "    </tr>\n",
              "    <tr>\n",
              "      <th>1295</th>\n",
              "      <td>Senior Data &amp; Applied Scientist</td>\n",
              "      <td>Microsoft</td>\n",
              "      <td>Senior Data &amp; Applied Scientist\\nDo you have a...</td>\n",
              "    </tr>\n",
              "    <tr>\n",
              "      <th>1296</th>\n",
              "      <td>Senior Data Scientist</td>\n",
              "      <td>Takeda Pharmaceuticals</td>\n",
              "      <td>Job Description\\nOBJECTIVES:\\nEffectively work...</td>\n",
              "    </tr>\n",
              "    <tr>\n",
              "      <th>1297</th>\n",
              "      <td>Senior Data Scientist</td>\n",
              "      <td>eBay Inc.</td>\n",
              "      <td>eBay is a global commerce leader that allows y...</td>\n",
              "    </tr>\n",
              "    <tr>\n",
              "      <th>1298</th>\n",
              "      <td>Senior Data Scientist</td>\n",
              "      <td>Cox Automotive</td>\n",
              "      <td>Cox Automotive, a subsidiary of Cox Enterprise...</td>\n",
              "    </tr>\n",
              "    <tr>\n",
              "      <th>1299</th>\n",
              "      <td>Senior Data Scientist</td>\n",
              "      <td>Spring Discovery</td>\n",
              "      <td>tl;dr\\nSpring is accelerating the discovery of...</td>\n",
              "    </tr>\n",
              "  </tbody>\n",
              "</table>\n",
              "<p>757 rows × 3 columns</p>\n",
              "</div>\n",
              "      <button class=\"colab-df-convert\" onclick=\"convertToInteractive('df-c2c8b149-7256-451a-87f6-adca25b4ec12')\"\n",
              "              title=\"Convert this dataframe to an interactive table.\"\n",
              "              style=\"display:none;\">\n",
              "        \n",
              "  <svg xmlns=\"http://www.w3.org/2000/svg\" height=\"24px\"viewBox=\"0 0 24 24\"\n",
              "       width=\"24px\">\n",
              "    <path d=\"M0 0h24v24H0V0z\" fill=\"none\"/>\n",
              "    <path d=\"M18.56 5.44l.94 2.06.94-2.06 2.06-.94-2.06-.94-.94-2.06-.94 2.06-2.06.94zm-11 1L8.5 8.5l.94-2.06 2.06-.94-2.06-.94L8.5 2.5l-.94 2.06-2.06.94zm10 10l.94 2.06.94-2.06 2.06-.94-2.06-.94-.94-2.06-.94 2.06-2.06.94z\"/><path d=\"M17.41 7.96l-1.37-1.37c-.4-.4-.92-.59-1.43-.59-.52 0-1.04.2-1.43.59L10.3 9.45l-7.72 7.72c-.78.78-.78 2.05 0 2.83L4 21.41c.39.39.9.59 1.41.59.51 0 1.02-.2 1.41-.59l7.78-7.78 2.81-2.81c.8-.78.8-2.07 0-2.86zM5.41 20L4 18.59l7.72-7.72 1.47 1.35L5.41 20z\"/>\n",
              "  </svg>\n",
              "      </button>\n",
              "      \n",
              "  <style>\n",
              "    .colab-df-container {\n",
              "      display:flex;\n",
              "      flex-wrap:wrap;\n",
              "      gap: 12px;\n",
              "    }\n",
              "\n",
              "    .colab-df-convert {\n",
              "      background-color: #E8F0FE;\n",
              "      border: none;\n",
              "      border-radius: 50%;\n",
              "      cursor: pointer;\n",
              "      display: none;\n",
              "      fill: #1967D2;\n",
              "      height: 32px;\n",
              "      padding: 0 0 0 0;\n",
              "      width: 32px;\n",
              "    }\n",
              "\n",
              "    .colab-df-convert:hover {\n",
              "      background-color: #E2EBFA;\n",
              "      box-shadow: 0px 1px 2px rgba(60, 64, 67, 0.3), 0px 1px 3px 1px rgba(60, 64, 67, 0.15);\n",
              "      fill: #174EA6;\n",
              "    }\n",
              "\n",
              "    [theme=dark] .colab-df-convert {\n",
              "      background-color: #3B4455;\n",
              "      fill: #D2E3FC;\n",
              "    }\n",
              "\n",
              "    [theme=dark] .colab-df-convert:hover {\n",
              "      background-color: #434B5C;\n",
              "      box-shadow: 0px 1px 3px 1px rgba(0, 0, 0, 0.15);\n",
              "      filter: drop-shadow(0px 1px 2px rgba(0, 0, 0, 0.3));\n",
              "      fill: #FFFFFF;\n",
              "    }\n",
              "  </style>\n",
              "\n",
              "      <script>\n",
              "        const buttonEl =\n",
              "          document.querySelector('#df-c2c8b149-7256-451a-87f6-adca25b4ec12 button.colab-df-convert');\n",
              "        buttonEl.style.display =\n",
              "          google.colab.kernel.accessAllowed ? 'block' : 'none';\n",
              "\n",
              "        async function convertToInteractive(key) {\n",
              "          const element = document.querySelector('#df-c2c8b149-7256-451a-87f6-adca25b4ec12');\n",
              "          const dataTable =\n",
              "            await google.colab.kernel.invokeFunction('convertToInteractive',\n",
              "                                                     [key], {});\n",
              "          if (!dataTable) return;\n",
              "\n",
              "          const docLinkHtml = 'Like what you see? Visit the ' +\n",
              "            '<a target=\"_blank\" href=https://colab.research.google.com/notebooks/data_table.ipynb>data table notebook</a>'\n",
              "            + ' to learn more about interactive tables.';\n",
              "          element.innerHTML = '';\n",
              "          dataTable['output_type'] = 'display_data';\n",
              "          await google.colab.output.renderOutput(dataTable, element);\n",
              "          const docLink = document.createElement('div');\n",
              "          docLink.innerHTML = docLinkHtml;\n",
              "          element.appendChild(docLink);\n",
              "        }\n",
              "      </script>\n",
              "    </div>\n",
              "  </div>\n",
              "  "
            ],
            "text/plain": [
              "                                                  title  \\\n",
              "1                  Data Scientist (Structured Products)   \n",
              "3                              Specialist, Data Science   \n",
              "4                           Sr. Data Scientist (Remote)   \n",
              "5     Data Scientist Associate Sr (DADS06) BTB - LEG...   \n",
              "6                                        Data Scientist   \n",
              "...                                                 ...   \n",
              "1295                    Senior Data & Applied Scientist   \n",
              "1296                              Senior Data Scientist   \n",
              "1297                              Senior Data Scientist   \n",
              "1298                              Senior Data Scientist   \n",
              "1299                              Senior Data Scientist   \n",
              "\n",
              "                               company  \\\n",
              "1     EquiTrust Life Insurance Company   \n",
              "3                           Nationwide   \n",
              "4           American Credit Acceptance   \n",
              "5            JPMorgan Chase Bank, N.A.   \n",
              "6                  VyStar Credit Union   \n",
              "...                                ...   \n",
              "1295                         Microsoft   \n",
              "1296            Takeda Pharmaceuticals   \n",
              "1297                         eBay Inc.   \n",
              "1298                    Cox Automotive   \n",
              "1299                  Spring Discovery   \n",
              "\n",
              "                                            description  \n",
              "1     Job Details\\nDescription\\nEssential Duties and...  \n",
              "3     As a team member in the Finance and Internal A...  \n",
              "4     Overview:\\nAmerican Credit Acceptance seeks a ...  \n",
              "5     J.P. Morgan's Corporate & Investment Bank (CIB...  \n",
              "6     At VyStar, we offer competitive pay, an excell...  \n",
              "...                                                 ...  \n",
              "1295  Senior Data & Applied Scientist\\nDo you have a...  \n",
              "1296  Job Description\\nOBJECTIVES:\\nEffectively work...  \n",
              "1297  eBay is a global commerce leader that allows y...  \n",
              "1298  Cox Automotive, a subsidiary of Cox Enterprise...  \n",
              "1299  tl;dr\\nSpring is accelerating the discovery of...  \n",
              "\n",
              "[757 rows x 3 columns]"
            ]
          },
          "execution_count": 6,
          "metadata": {},
          "output_type": "execute_result"
        }
      ],
      "source": [
        "df2"
      ]
    },
    {
      "cell_type": "code",
      "execution_count": null,
      "metadata": {
        "colab": {
          "base_uri": "https://localhost:8080/"
        },
        "id": "zA-QGEekNlih",
        "outputId": "7f71a910-0029-4eda-c74f-9b91cb7946f0"
      },
      "outputs": [
        {
          "data": {
            "text/plain": [
              "(757, 3)"
            ]
          },
          "execution_count": 7,
          "metadata": {},
          "output_type": "execute_result"
        }
      ],
      "source": [
        "df2.shape"
      ]
    },
    {
      "cell_type": "markdown",
      "metadata": {
        "id": "JepbPJw5nxVT"
      },
      "source": [
        "### 1) 토큰을 정제"
      ]
    },
    {
      "cell_type": "markdown",
      "metadata": {
        "id": "8Mq6oYCdQ0cZ"
      },
      "source": [
        "- 문자를 소문자로 통일\n",
        "- 분석에 관련 없는 정보 제거\n",
        "- 이번 과제는 `spacy` 로부터 `\"en_core_web_sm\"` 을 로드하여 진행\n",
        "\n",
        "- ** 대문자를 소문자로 변경하는 함수를 입력 **\n",
        "- ** 정규 표현식을 사용하여 re 라이브러리에서 알파벳 소문자, 숫자만 받을 수 있는 코드 **"
      ]
    },
    {
      "cell_type": "code",
      "execution_count": null,
      "metadata": {
        "id": "_VBRkXS6nxVT"
      },
      "outputs": [],
      "source": [
        "nlp = spacy.load(\"en_core_web_sm\")\n",
        "tokenizer = Tokenizer(nlp.vocab)"
      ]
    },
    {
      "cell_type": "code",
      "execution_count": null,
      "metadata": {
        "id": "livfK3ZBP9bb"
      },
      "outputs": [],
      "source": [
        "regex = r\"[^a-z0-9\\n ]\"\n",
        "subst = \"\"\n",
        "\n",
        "def tokenize(text):\n",
        "\n",
        "    # 정규식 적용\n",
        "    tokens = re.sub(regex, subst, text)\n",
        "    # 소문자로 치환\n",
        "    tokens = tokens.lower().split()\n",
        "    \n",
        "    return tokens"
      ]
    },
    {
      "cell_type": "code",
      "execution_count": null,
      "metadata": {
        "id": "wwUjRS6XQlSr"
      },
      "outputs": [],
      "source": [
        "df2['tokens'] = df2['description'].apply(tokenize)"
      ]
    },
    {
      "cell_type": "code",
      "execution_count": null,
      "metadata": {
        "colab": {
          "base_uri": "https://localhost:8080/",
          "height": 641
        },
        "id": "wdTP1F1iUJJJ",
        "outputId": "e060e8b3-90c6-4245-d511-04fae3199b2d"
      },
      "outputs": [
        {
          "data": {
            "text/html": [
              "\n",
              "  <div id=\"df-dc9acd10-980c-4e35-bdf1-5d5d0d1aa661\">\n",
              "    <div class=\"colab-df-container\">\n",
              "      <div>\n",
              "<style scoped>\n",
              "    .dataframe tbody tr th:only-of-type {\n",
              "        vertical-align: middle;\n",
              "    }\n",
              "\n",
              "    .dataframe tbody tr th {\n",
              "        vertical-align: top;\n",
              "    }\n",
              "\n",
              "    .dataframe thead th {\n",
              "        text-align: right;\n",
              "    }\n",
              "</style>\n",
              "<table border=\"1\" class=\"dataframe\">\n",
              "  <thead>\n",
              "    <tr style=\"text-align: right;\">\n",
              "      <th></th>\n",
              "      <th>title</th>\n",
              "      <th>company</th>\n",
              "      <th>description</th>\n",
              "      <th>tokens</th>\n",
              "    </tr>\n",
              "  </thead>\n",
              "  <tbody>\n",
              "    <tr>\n",
              "      <th>1</th>\n",
              "      <td>Data Scientist (Structured Products)</td>\n",
              "      <td>EquiTrust Life Insurance Company</td>\n",
              "      <td>Job Details\\nDescription\\nEssential Duties and...</td>\n",
              "      <td>[ob, etails, escription, ssential, uties, and,...</td>\n",
              "    </tr>\n",
              "    <tr>\n",
              "      <th>3</th>\n",
              "      <td>Specialist, Data Science</td>\n",
              "      <td>Nationwide</td>\n",
              "      <td>As a team member in the Finance and Internal A...</td>\n",
              "      <td>[s, a, team, member, in, the, inance, and, nte...</td>\n",
              "    </tr>\n",
              "    <tr>\n",
              "      <th>4</th>\n",
              "      <td>Sr. Data Scientist (Remote)</td>\n",
              "      <td>American Credit Acceptance</td>\n",
              "      <td>Overview:\\nAmerican Credit Acceptance seeks a ...</td>\n",
              "      <td>[verview, merican, redit, cceptance, seeks, a,...</td>\n",
              "    </tr>\n",
              "    <tr>\n",
              "      <th>5</th>\n",
              "      <td>Data Scientist Associate Sr (DADS06) BTB - LEG...</td>\n",
              "      <td>JPMorgan Chase Bank, N.A.</td>\n",
              "      <td>J.P. Morgan's Corporate &amp; Investment Bank (CIB...</td>\n",
              "      <td>[organs, orporate, nvestment, ank, is, a, glob...</td>\n",
              "    </tr>\n",
              "    <tr>\n",
              "      <th>6</th>\n",
              "      <td>Data Scientist</td>\n",
              "      <td>VyStar Credit Union</td>\n",
              "      <td>At VyStar, we offer competitive pay, an excell...</td>\n",
              "      <td>[t, ytar, we, offer, competitive, pay, an, exc...</td>\n",
              "    </tr>\n",
              "    <tr>\n",
              "      <th>...</th>\n",
              "      <td>...</td>\n",
              "      <td>...</td>\n",
              "      <td>...</td>\n",
              "      <td>...</td>\n",
              "    </tr>\n",
              "    <tr>\n",
              "      <th>1295</th>\n",
              "      <td>Senior Data &amp; Applied Scientist</td>\n",
              "      <td>Microsoft</td>\n",
              "      <td>Senior Data &amp; Applied Scientist\\nDo you have a...</td>\n",
              "      <td>[enior, ata, pplied, cientist, o, you, have, a...</td>\n",
              "    </tr>\n",
              "    <tr>\n",
              "      <th>1296</th>\n",
              "      <td>Senior Data Scientist</td>\n",
              "      <td>Takeda Pharmaceuticals</td>\n",
              "      <td>Job Description\\nOBJECTIVES:\\nEffectively work...</td>\n",
              "      <td>[ob, escription, ffectively, working, with, an...</td>\n",
              "    </tr>\n",
              "    <tr>\n",
              "      <th>1297</th>\n",
              "      <td>Senior Data Scientist</td>\n",
              "      <td>eBay Inc.</td>\n",
              "      <td>eBay is a global commerce leader that allows y...</td>\n",
              "      <td>[eay, is, a, global, commerce, leader, that, a...</td>\n",
              "    </tr>\n",
              "    <tr>\n",
              "      <th>1298</th>\n",
              "      <td>Senior Data Scientist</td>\n",
              "      <td>Cox Automotive</td>\n",
              "      <td>Cox Automotive, a subsidiary of Cox Enterprise...</td>\n",
              "      <td>[ox, utomotive, a, subsidiary, of, ox, nterpri...</td>\n",
              "    </tr>\n",
              "    <tr>\n",
              "      <th>1299</th>\n",
              "      <td>Senior Data Scientist</td>\n",
              "      <td>Spring Discovery</td>\n",
              "      <td>tl;dr\\nSpring is accelerating the discovery of...</td>\n",
              "      <td>[tldr, pring, is, accelerating, the, discovery...</td>\n",
              "    </tr>\n",
              "  </tbody>\n",
              "</table>\n",
              "<p>757 rows × 4 columns</p>\n",
              "</div>\n",
              "      <button class=\"colab-df-convert\" onclick=\"convertToInteractive('df-dc9acd10-980c-4e35-bdf1-5d5d0d1aa661')\"\n",
              "              title=\"Convert this dataframe to an interactive table.\"\n",
              "              style=\"display:none;\">\n",
              "        \n",
              "  <svg xmlns=\"http://www.w3.org/2000/svg\" height=\"24px\"viewBox=\"0 0 24 24\"\n",
              "       width=\"24px\">\n",
              "    <path d=\"M0 0h24v24H0V0z\" fill=\"none\"/>\n",
              "    <path d=\"M18.56 5.44l.94 2.06.94-2.06 2.06-.94-2.06-.94-.94-2.06-.94 2.06-2.06.94zm-11 1L8.5 8.5l.94-2.06 2.06-.94-2.06-.94L8.5 2.5l-.94 2.06-2.06.94zm10 10l.94 2.06.94-2.06 2.06-.94-2.06-.94-.94-2.06-.94 2.06-2.06.94z\"/><path d=\"M17.41 7.96l-1.37-1.37c-.4-.4-.92-.59-1.43-.59-.52 0-1.04.2-1.43.59L10.3 9.45l-7.72 7.72c-.78.78-.78 2.05 0 2.83L4 21.41c.39.39.9.59 1.41.59.51 0 1.02-.2 1.41-.59l7.78-7.78 2.81-2.81c.8-.78.8-2.07 0-2.86zM5.41 20L4 18.59l7.72-7.72 1.47 1.35L5.41 20z\"/>\n",
              "  </svg>\n",
              "      </button>\n",
              "      \n",
              "  <style>\n",
              "    .colab-df-container {\n",
              "      display:flex;\n",
              "      flex-wrap:wrap;\n",
              "      gap: 12px;\n",
              "    }\n",
              "\n",
              "    .colab-df-convert {\n",
              "      background-color: #E8F0FE;\n",
              "      border: none;\n",
              "      border-radius: 50%;\n",
              "      cursor: pointer;\n",
              "      display: none;\n",
              "      fill: #1967D2;\n",
              "      height: 32px;\n",
              "      padding: 0 0 0 0;\n",
              "      width: 32px;\n",
              "    }\n",
              "\n",
              "    .colab-df-convert:hover {\n",
              "      background-color: #E2EBFA;\n",
              "      box-shadow: 0px 1px 2px rgba(60, 64, 67, 0.3), 0px 1px 3px 1px rgba(60, 64, 67, 0.15);\n",
              "      fill: #174EA6;\n",
              "    }\n",
              "\n",
              "    [theme=dark] .colab-df-convert {\n",
              "      background-color: #3B4455;\n",
              "      fill: #D2E3FC;\n",
              "    }\n",
              "\n",
              "    [theme=dark] .colab-df-convert:hover {\n",
              "      background-color: #434B5C;\n",
              "      box-shadow: 0px 1px 3px 1px rgba(0, 0, 0, 0.15);\n",
              "      filter: drop-shadow(0px 1px 2px rgba(0, 0, 0, 0.3));\n",
              "      fill: #FFFFFF;\n",
              "    }\n",
              "  </style>\n",
              "\n",
              "      <script>\n",
              "        const buttonEl =\n",
              "          document.querySelector('#df-dc9acd10-980c-4e35-bdf1-5d5d0d1aa661 button.colab-df-convert');\n",
              "        buttonEl.style.display =\n",
              "          google.colab.kernel.accessAllowed ? 'block' : 'none';\n",
              "\n",
              "        async function convertToInteractive(key) {\n",
              "          const element = document.querySelector('#df-dc9acd10-980c-4e35-bdf1-5d5d0d1aa661');\n",
              "          const dataTable =\n",
              "            await google.colab.kernel.invokeFunction('convertToInteractive',\n",
              "                                                     [key], {});\n",
              "          if (!dataTable) return;\n",
              "\n",
              "          const docLinkHtml = 'Like what you see? Visit the ' +\n",
              "            '<a target=\"_blank\" href=https://colab.research.google.com/notebooks/data_table.ipynb>data table notebook</a>'\n",
              "            + ' to learn more about interactive tables.';\n",
              "          element.innerHTML = '';\n",
              "          dataTable['output_type'] = 'display_data';\n",
              "          await google.colab.output.renderOutput(dataTable, element);\n",
              "          const docLink = document.createElement('div');\n",
              "          docLink.innerHTML = docLinkHtml;\n",
              "          element.appendChild(docLink);\n",
              "        }\n",
              "      </script>\n",
              "    </div>\n",
              "  </div>\n",
              "  "
            ],
            "text/plain": [
              "                                                  title  \\\n",
              "1                  Data Scientist (Structured Products)   \n",
              "3                              Specialist, Data Science   \n",
              "4                           Sr. Data Scientist (Remote)   \n",
              "5     Data Scientist Associate Sr (DADS06) BTB - LEG...   \n",
              "6                                        Data Scientist   \n",
              "...                                                 ...   \n",
              "1295                    Senior Data & Applied Scientist   \n",
              "1296                              Senior Data Scientist   \n",
              "1297                              Senior Data Scientist   \n",
              "1298                              Senior Data Scientist   \n",
              "1299                              Senior Data Scientist   \n",
              "\n",
              "                               company  \\\n",
              "1     EquiTrust Life Insurance Company   \n",
              "3                           Nationwide   \n",
              "4           American Credit Acceptance   \n",
              "5            JPMorgan Chase Bank, N.A.   \n",
              "6                  VyStar Credit Union   \n",
              "...                                ...   \n",
              "1295                         Microsoft   \n",
              "1296            Takeda Pharmaceuticals   \n",
              "1297                         eBay Inc.   \n",
              "1298                    Cox Automotive   \n",
              "1299                  Spring Discovery   \n",
              "\n",
              "                                            description  \\\n",
              "1     Job Details\\nDescription\\nEssential Duties and...   \n",
              "3     As a team member in the Finance and Internal A...   \n",
              "4     Overview:\\nAmerican Credit Acceptance seeks a ...   \n",
              "5     J.P. Morgan's Corporate & Investment Bank (CIB...   \n",
              "6     At VyStar, we offer competitive pay, an excell...   \n",
              "...                                                 ...   \n",
              "1295  Senior Data & Applied Scientist\\nDo you have a...   \n",
              "1296  Job Description\\nOBJECTIVES:\\nEffectively work...   \n",
              "1297  eBay is a global commerce leader that allows y...   \n",
              "1298  Cox Automotive, a subsidiary of Cox Enterprise...   \n",
              "1299  tl;dr\\nSpring is accelerating the discovery of...   \n",
              "\n",
              "                                                 tokens  \n",
              "1     [ob, etails, escription, ssential, uties, and,...  \n",
              "3     [s, a, team, member, in, the, inance, and, nte...  \n",
              "4     [verview, merican, redit, cceptance, seeks, a,...  \n",
              "5     [organs, orporate, nvestment, ank, is, a, glob...  \n",
              "6     [t, ytar, we, offer, competitive, pay, an, exc...  \n",
              "...                                                 ...  \n",
              "1295  [enior, ata, pplied, cientist, o, you, have, a...  \n",
              "1296  [ob, escription, ffectively, working, with, an...  \n",
              "1297  [eay, is, a, global, commerce, leader, that, a...  \n",
              "1298  [ox, utomotive, a, subsidiary, of, ox, nterpri...  \n",
              "1299  [tldr, pring, is, accelerating, the, discovery...  \n",
              "\n",
              "[757 rows x 4 columns]"
            ]
          },
          "execution_count": 11,
          "metadata": {},
          "output_type": "execute_result"
        }
      ],
      "source": [
        "df2"
      ]
    },
    {
      "cell_type": "markdown",
      "metadata": {
        "id": "RdgRqlzsnxVT"
      },
      "source": [
        "### 2) 정제한 토큰을 시각화"
      ]
    },
    {
      "cell_type": "markdown",
      "metadata": {
        "id": "sOobV051OOsv"
      },
      "source": [
        "- Top 10 토큰을 프린트 하기\n",
        "- 토큰의 수, 빈도 순위, 존재 문서 수, 비율 등 정보를 계산하기\n",
        "- 토큰 순위에 따른 퍼센트 누적 분포 그래프를 시각화하기\n",
        "\n",
        "- ** 추천 토큰 순위 10개 단어를 입력 **"
      ]
    },
    {
      "cell_type": "code",
      "execution_count": null,
      "metadata": {
        "colab": {
          "base_uri": "https://localhost:8080/"
        },
        "id": "3Gk8_RIxcWKS",
        "outputId": "d840847a-eb21-4f5b-8700-6cf92058fdcb"
      },
      "outputs": [
        {
          "data": {
            "text/plain": [
              "[('and', 21770),\n",
              " ('to', 12518),\n",
              " ('the', 9261),\n",
              " ('of', 8823),\n",
              " ('in', 6523),\n",
              " ('a', 6145),\n",
              " ('data', 5935),\n",
              " ('with', 5645),\n",
              " ('for', 3957),\n",
              " ('or', 3922)]"
            ]
          },
          "execution_count": 12,
          "metadata": {},
          "output_type": "execute_result"
        }
      ],
      "source": [
        "# Counter 객체는 리스트요소의 값과 요소의 갯수를 카운트 하여 저장\n",
        "# 카운터 객체는 .update 메소드로 계속 업데이트 가능\n",
        "word_counts = Counter()\n",
        "\n",
        "# 토큰화된 각 리뷰 리스트를 카운터 객체에 업데이트 \n",
        "df2['tokens'].apply(lambda x: word_counts.update(x))\n",
        "\n",
        "# 가장 많이 존재하는 단어 순으로 10개\n",
        "word_counts.most_common(10)"
      ]
    },
    {
      "cell_type": "code",
      "execution_count": null,
      "metadata": {
        "id": "MSzoAUtldFTx"
      },
      "outputs": [],
      "source": [
        "def word_count(docs):\n",
        "    \n",
        "    # 단어 개수 빈도\n",
        "    word_counts = Counter()\n",
        "\n",
        "    # 단어 존재 문서 빈도, 해당 단어가 한 번 이상 존재하면 +1\n",
        "    word_in_docs = Counter()\n",
        "\n",
        "    # 전체 문서의 개수\n",
        "    total_docs = len(docs)\n",
        "\n",
        "    for doc in docs:\n",
        "        word_counts.update(doc)\n",
        "        word_in_docs.update(set(doc))\n",
        "\n",
        "    temp = zip(word_counts.keys(), word_counts.values())\n",
        "\n",
        "    wc = pd.DataFrame(temp, columns = ['word', 'count'])\n",
        "\n",
        "    # rank 열에 단어 빈도 순으로 순위를 저장합니다.\n",
        "    # method='first': 같은 값의 경우 먼저나온 요소를 상위에 배치합니다.\n",
        "    wc['rank'] = wc['count'].rank(method='first', ascending=False).astype(int)\n",
        "    total = wc['count'].sum()\n",
        "\n",
        "    # percent 열에는 말뭉치 내 단어의 비율을 계산합니다.\n",
        "    wc['percent'] = wc['count'].apply(lambda x: x / total)\n",
        "\n",
        "    wc = wc.sort_values(by='rank')\n",
        "\n",
        "    # cul_percent 열에는 누적 비율을 저장합니다.\n",
        "    wc['cul_percent'] = wc['percent'].cumsum()\n",
        "\n",
        "    temp2 = zip(word_in_docs.keys(), word_in_docs.values())\n",
        "    ac = pd.DataFrame(temp2, columns=['word', 'word_in_docs'])\n",
        "    wc = ac.merge(wc, on='word')\n",
        "    \n",
        "    # word_in_docs_percent 열에는 전체 문서 중 해당 단어가 존재하는 문서의 비율을 저장합니다.\n",
        "    wc['word_in_docs_percent'] = wc['word_in_docs'].apply(lambda x: x / total_docs)\n",
        "\n",
        "    return wc.sort_values(by='rank')"
      ]
    },
    {
      "cell_type": "code",
      "execution_count": null,
      "metadata": {
        "colab": {
          "base_uri": "https://localhost:8080/",
          "height": 363
        },
        "id": "3QKt8duMd2pj",
        "outputId": "c97a416b-14e8-461a-ad4c-b983f2dc8c21"
      },
      "outputs": [
        {
          "data": {
            "text/html": [
              "\n",
              "  <div id=\"df-a5b83929-a4c6-40d7-82f5-6c10c2e0f9bf\">\n",
              "    <div class=\"colab-df-container\">\n",
              "      <div>\n",
              "<style scoped>\n",
              "    .dataframe tbody tr th:only-of-type {\n",
              "        vertical-align: middle;\n",
              "    }\n",
              "\n",
              "    .dataframe tbody tr th {\n",
              "        vertical-align: top;\n",
              "    }\n",
              "\n",
              "    .dataframe thead th {\n",
              "        text-align: right;\n",
              "    }\n",
              "</style>\n",
              "<table border=\"1\" class=\"dataframe\">\n",
              "  <thead>\n",
              "    <tr style=\"text-align: right;\">\n",
              "      <th></th>\n",
              "      <th>word</th>\n",
              "      <th>word_in_docs</th>\n",
              "      <th>count</th>\n",
              "      <th>rank</th>\n",
              "      <th>percent</th>\n",
              "      <th>cul_percent</th>\n",
              "      <th>word_in_docs_percent</th>\n",
              "    </tr>\n",
              "  </thead>\n",
              "  <tbody>\n",
              "    <tr>\n",
              "      <th>146</th>\n",
              "      <td>and</td>\n",
              "      <td>755</td>\n",
              "      <td>21770</td>\n",
              "      <td>1</td>\n",
              "      <td>0.057371</td>\n",
              "      <td>0.057371</td>\n",
              "      <td>0.997358</td>\n",
              "    </tr>\n",
              "    <tr>\n",
              "      <th>25</th>\n",
              "      <td>to</td>\n",
              "      <td>754</td>\n",
              "      <td>12518</td>\n",
              "      <td>2</td>\n",
              "      <td>0.032989</td>\n",
              "      <td>0.090360</td>\n",
              "      <td>0.996037</td>\n",
              "    </tr>\n",
              "    <tr>\n",
              "      <th>157</th>\n",
              "      <td>the</td>\n",
              "      <td>744</td>\n",
              "      <td>9261</td>\n",
              "      <td>3</td>\n",
              "      <td>0.024406</td>\n",
              "      <td>0.114765</td>\n",
              "      <td>0.982827</td>\n",
              "    </tr>\n",
              "    <tr>\n",
              "      <th>54</th>\n",
              "      <td>of</td>\n",
              "      <td>745</td>\n",
              "      <td>8823</td>\n",
              "      <td>4</td>\n",
              "      <td>0.023251</td>\n",
              "      <td>0.138017</td>\n",
              "      <td>0.984148</td>\n",
              "    </tr>\n",
              "    <tr>\n",
              "      <th>38</th>\n",
              "      <td>in</td>\n",
              "      <td>748</td>\n",
              "      <td>6523</td>\n",
              "      <td>5</td>\n",
              "      <td>0.017190</td>\n",
              "      <td>0.155207</td>\n",
              "      <td>0.988111</td>\n",
              "    </tr>\n",
              "    <tr>\n",
              "      <th>109</th>\n",
              "      <td>a</td>\n",
              "      <td>738</td>\n",
              "      <td>6145</td>\n",
              "      <td>6</td>\n",
              "      <td>0.016194</td>\n",
              "      <td>0.171401</td>\n",
              "      <td>0.974901</td>\n",
              "    </tr>\n",
              "    <tr>\n",
              "      <th>92</th>\n",
              "      <td>data</td>\n",
              "      <td>721</td>\n",
              "      <td>5935</td>\n",
              "      <td>7</td>\n",
              "      <td>0.015641</td>\n",
              "      <td>0.187042</td>\n",
              "      <td>0.952444</td>\n",
              "    </tr>\n",
              "    <tr>\n",
              "      <th>194</th>\n",
              "      <td>with</td>\n",
              "      <td>742</td>\n",
              "      <td>5645</td>\n",
              "      <td>8</td>\n",
              "      <td>0.014876</td>\n",
              "      <td>0.201918</td>\n",
              "      <td>0.980185</td>\n",
              "    </tr>\n",
              "    <tr>\n",
              "      <th>325</th>\n",
              "      <td>for</td>\n",
              "      <td>726</td>\n",
              "      <td>3957</td>\n",
              "      <td>9</td>\n",
              "      <td>0.010428</td>\n",
              "      <td>0.212346</td>\n",
              "      <td>0.959049</td>\n",
              "    </tr>\n",
              "    <tr>\n",
              "      <th>112</th>\n",
              "      <td>or</td>\n",
              "      <td>710</td>\n",
              "      <td>3922</td>\n",
              "      <td>10</td>\n",
              "      <td>0.010336</td>\n",
              "      <td>0.222682</td>\n",
              "      <td>0.937913</td>\n",
              "    </tr>\n",
              "  </tbody>\n",
              "</table>\n",
              "</div>\n",
              "      <button class=\"colab-df-convert\" onclick=\"convertToInteractive('df-a5b83929-a4c6-40d7-82f5-6c10c2e0f9bf')\"\n",
              "              title=\"Convert this dataframe to an interactive table.\"\n",
              "              style=\"display:none;\">\n",
              "        \n",
              "  <svg xmlns=\"http://www.w3.org/2000/svg\" height=\"24px\"viewBox=\"0 0 24 24\"\n",
              "       width=\"24px\">\n",
              "    <path d=\"M0 0h24v24H0V0z\" fill=\"none\"/>\n",
              "    <path d=\"M18.56 5.44l.94 2.06.94-2.06 2.06-.94-2.06-.94-.94-2.06-.94 2.06-2.06.94zm-11 1L8.5 8.5l.94-2.06 2.06-.94-2.06-.94L8.5 2.5l-.94 2.06-2.06.94zm10 10l.94 2.06.94-2.06 2.06-.94-2.06-.94-.94-2.06-.94 2.06-2.06.94z\"/><path d=\"M17.41 7.96l-1.37-1.37c-.4-.4-.92-.59-1.43-.59-.52 0-1.04.2-1.43.59L10.3 9.45l-7.72 7.72c-.78.78-.78 2.05 0 2.83L4 21.41c.39.39.9.59 1.41.59.51 0 1.02-.2 1.41-.59l7.78-7.78 2.81-2.81c.8-.78.8-2.07 0-2.86zM5.41 20L4 18.59l7.72-7.72 1.47 1.35L5.41 20z\"/>\n",
              "  </svg>\n",
              "      </button>\n",
              "      \n",
              "  <style>\n",
              "    .colab-df-container {\n",
              "      display:flex;\n",
              "      flex-wrap:wrap;\n",
              "      gap: 12px;\n",
              "    }\n",
              "\n",
              "    .colab-df-convert {\n",
              "      background-color: #E8F0FE;\n",
              "      border: none;\n",
              "      border-radius: 50%;\n",
              "      cursor: pointer;\n",
              "      display: none;\n",
              "      fill: #1967D2;\n",
              "      height: 32px;\n",
              "      padding: 0 0 0 0;\n",
              "      width: 32px;\n",
              "    }\n",
              "\n",
              "    .colab-df-convert:hover {\n",
              "      background-color: #E2EBFA;\n",
              "      box-shadow: 0px 1px 2px rgba(60, 64, 67, 0.3), 0px 1px 3px 1px rgba(60, 64, 67, 0.15);\n",
              "      fill: #174EA6;\n",
              "    }\n",
              "\n",
              "    [theme=dark] .colab-df-convert {\n",
              "      background-color: #3B4455;\n",
              "      fill: #D2E3FC;\n",
              "    }\n",
              "\n",
              "    [theme=dark] .colab-df-convert:hover {\n",
              "      background-color: #434B5C;\n",
              "      box-shadow: 0px 1px 3px 1px rgba(0, 0, 0, 0.15);\n",
              "      filter: drop-shadow(0px 1px 2px rgba(0, 0, 0, 0.3));\n",
              "      fill: #FFFFFF;\n",
              "    }\n",
              "  </style>\n",
              "\n",
              "      <script>\n",
              "        const buttonEl =\n",
              "          document.querySelector('#df-a5b83929-a4c6-40d7-82f5-6c10c2e0f9bf button.colab-df-convert');\n",
              "        buttonEl.style.display =\n",
              "          google.colab.kernel.accessAllowed ? 'block' : 'none';\n",
              "\n",
              "        async function convertToInteractive(key) {\n",
              "          const element = document.querySelector('#df-a5b83929-a4c6-40d7-82f5-6c10c2e0f9bf');\n",
              "          const dataTable =\n",
              "            await google.colab.kernel.invokeFunction('convertToInteractive',\n",
              "                                                     [key], {});\n",
              "          if (!dataTable) return;\n",
              "\n",
              "          const docLinkHtml = 'Like what you see? Visit the ' +\n",
              "            '<a target=\"_blank\" href=https://colab.research.google.com/notebooks/data_table.ipynb>data table notebook</a>'\n",
              "            + ' to learn more about interactive tables.';\n",
              "          element.innerHTML = '';\n",
              "          dataTable['output_type'] = 'display_data';\n",
              "          await google.colab.output.renderOutput(dataTable, element);\n",
              "          const docLink = document.createElement('div');\n",
              "          docLink.innerHTML = docLinkHtml;\n",
              "          element.appendChild(docLink);\n",
              "        }\n",
              "      </script>\n",
              "    </div>\n",
              "  </div>\n",
              "  "
            ],
            "text/plain": [
              "     word  word_in_docs  count  rank   percent  cul_percent  \\\n",
              "146   and           755  21770     1  0.057371     0.057371   \n",
              "25     to           754  12518     2  0.032989     0.090360   \n",
              "157   the           744   9261     3  0.024406     0.114765   \n",
              "54     of           745   8823     4  0.023251     0.138017   \n",
              "38     in           748   6523     5  0.017190     0.155207   \n",
              "109     a           738   6145     6  0.016194     0.171401   \n",
              "92   data           721   5935     7  0.015641     0.187042   \n",
              "194  with           742   5645     8  0.014876     0.201918   \n",
              "325   for           726   3957     9  0.010428     0.212346   \n",
              "112    or           710   3922    10  0.010336     0.222682   \n",
              "\n",
              "     word_in_docs_percent  \n",
              "146              0.997358  \n",
              "25               0.996037  \n",
              "157              0.982827  \n",
              "54               0.984148  \n",
              "38               0.988111  \n",
              "109              0.974901  \n",
              "92               0.952444  \n",
              "194              0.980185  \n",
              "325              0.959049  \n",
              "112              0.937913  "
            ]
          },
          "execution_count": 14,
          "metadata": {},
          "output_type": "execute_result"
        }
      ],
      "source": [
        "wc = word_count(df2['tokens'])\n",
        "wc.head(10)"
      ]
    },
    {
      "cell_type": "code",
      "execution_count": null,
      "metadata": {
        "colab": {
          "base_uri": "https://localhost:8080/",
          "height": 279
        },
        "id": "oZL_ZCjAd9Qe",
        "outputId": "f79df079-2777-4b8b-8326-196a9d202bba"
      },
      "outputs": [
        {
          "data": {
            "image/png": "[encoded data removed]",
            "text/plain": [
              "<Figure size 432x288 with 1 Axes>"
            ]
          },
          "metadata": {
            "needs_background": "light"
          },
          "output_type": "display_data"
        }
      ],
      "source": [
        "sns.lineplot(x='rank', y='cul_percent', data=wc);"
      ]
    },
    {
      "cell_type": "code",
      "execution_count": null,
      "metadata": {
        "colab": {
          "base_uri": "https://localhost:8080/"
        },
        "id": "fs_FMwqaeAnm",
        "outputId": "27fb8935-3b63-4f72-a19c-56be27d0abcf"
      },
      "outputs": [
        {
          "data": {
            "text/plain": [
              "0.7712096895333119"
            ]
          },
          "execution_count": 16,
          "metadata": {},
          "output_type": "execute_result"
        }
      ],
      "source": [
        "wc[wc['rank'] <= 1000]['cul_percent'].max()"
      ]
    },
    {
      "cell_type": "code",
      "execution_count": null,
      "metadata": {
        "colab": {
          "base_uri": "https://localhost:8080/",
          "height": 248
        },
        "id": "SqjW92zxeHtK",
        "outputId": "a53730e5-9e67-4f6c-bb01-8aec8869c634"
      },
      "outputs": [
        {
          "data": {
            "image/png": "[encoded data removed]",
            "text/plain": [
              "<Figure size 432x288 with 1 Axes>"
            ]
          },
          "metadata": {
            "needs_background": "light"
          },
          "output_type": "display_data"
        }
      ],
      "source": [
        "wc_top20 = wc[wc['rank'] <= 20]\n",
        "squarify.plot(sizes=wc_top20['percent'], label=wc_top20['word'], alpha=0.6)\n",
        "plt.axis('off')\n",
        "plt.show()"
      ]
    },
    {
      "cell_type": "markdown",
      "metadata": {
        "id": "sURsv85FnxVU"
      },
      "source": [
        "### 4) 확장된 불용어 사전을 사용해 토큰을 정제\n"
      ]
    },
    {
      "cell_type": "markdown",
      "metadata": {
        "id": "d4FW5bGjRHb4"
      },
      "source": [
        "- ** 기본 불용어 사전에 두 단어(`\"data\", \"work\"`)를 추가하는 코드를 사용하기 **\n",
        "- ** 불용어를 제거하고 난 뒤 토큰 순위 10개의 단어를 입력하기 **"
      ]
    },
    {
      "cell_type": "code",
      "execution_count": null,
      "metadata": {
        "colab": {
          "base_uri": "https://localhost:8080/"
        },
        "id": "yuxNolYCcWrv",
        "outputId": "b4a86dc4-71f0-4eb9-8414-b4c801f12920"
      },
      "outputs": [
        {
          "data": {
            "text/plain": [
              "1    [ob, etails, escription, ssential, uties, espo...\n",
              "3    [s, team, member, inance, nternal, udit, depar...\n",
              "4    [verview, merican, redit, cceptance, seeks, hi...\n",
              "5    [organs, orporate, nvestment, ank, global, lea...\n",
              "6    [t, ytar, offer, competitive, pay, excellent, ...\n",
              "Name: tokens, dtype: object"
            ]
          },
          "execution_count": 18,
          "metadata": {},
          "output_type": "execute_result"
        }
      ],
      "source": [
        "STOP_WORDS = nlp.Defaults.stop_words.union([\"data\", \"work\"])\n",
        "#data와 work추가하기 위해서 단어를 사전에 추가하기\n",
        "\n",
        "tokens = []\n",
        "\n",
        "for doc in df2['tokens']:\n",
        "  \n",
        "  doc_tokens = []\n",
        "  \n",
        "  for token in doc:\n",
        "    \n",
        "    if token not in STOP_WORDS:\n",
        "      \n",
        "      doc_tokens.append(token)\n",
        "  \n",
        "  tokens.append(doc_tokens)\n",
        "\n",
        "df2['tokens'] = tokens\n",
        "df2.tokens.head()"
      ]
    },
    {
      "cell_type": "code",
      "execution_count": null,
      "metadata": {
        "colab": {
          "base_uri": "https://localhost:8080/"
        },
        "id": "HhEjTErcXlnA",
        "outputId": "8bcd6209-623d-4778-d894-aaed8f9f205c"
      },
      "outputs": [
        {
          "data": {
            "text/plain": [
              "[('experience', 2071),\n",
              " ('business', 1886),\n",
              " ('team', 1529),\n",
              " ('ata', 1478),\n",
              " ('xperience', 1375),\n",
              " ('e', 1359),\n",
              " ('learning', 1337),\n",
              " ('analysis', 1273),\n",
              " ('skills', 1100),\n",
              " ('models', 1020)]"
            ]
          },
          "execution_count": 19,
          "metadata": {},
          "output_type": "execute_result"
        }
      ],
      "source": [
        "word_counts = Counter()\n",
        "\n",
        "# 업데이트\n",
        "df2['tokens'].apply(lambda x: word_counts.update(x))\n",
        "\n",
        "# Top 10 토큰\n",
        "word_counts.most_common(10)"
      ]
    },
    {
      "cell_type": "markdown",
      "metadata": {
        "id": "f0iyh_gFnxVV"
      },
      "source": [
        "### 5) Lemmatization 사용 효과를 분석하기\n",
        "\n"
      ]
    },
    {
      "cell_type": "markdown",
      "metadata": {
        "id": "zcBkXD0WTNgI"
      },
      "source": [
        "- ** Lemmatization을 진행한 뒤 상위 10개 단어를 입력하기 **"
      ]
    },
    {
      "cell_type": "code",
      "execution_count": null,
      "metadata": {
        "id": "O2cKokO8cXR5"
      },
      "outputs": [],
      "source": [
        "\n",
        "def get_lemmas(text):\n",
        "    lemmas = []\n",
        "    doc = nlp(text)\n",
        "\n",
        "    for token in doc: \n",
        "        if re.sub(regex, subst, token.text.lower()) not in STOP_WORDS and (token.is_stop == False) and (token.is_punct == False) and (token.pos_ != 'PRON'):\n",
        "          if (token.text != '\\n') and (token.text != '\\n\\n'):\n",
        "            lemmas.append(token.lemma_)\n",
        "    \n",
        "    return lemmas"
      ]
    },
    {
      "cell_type": "code",
      "execution_count": null,
      "metadata": {
        "id": "BkgjPF2_brLp"
      },
      "outputs": [],
      "source": [
        "df2['lemmas'] = df2['description'].apply(get_lemmas)"
      ]
    },
    {
      "cell_type": "code",
      "execution_count": null,
      "metadata": {
        "colab": {
          "base_uri": "https://localhost:8080/",
          "height": 363
        },
        "id": "v5jWB1LNlvEj",
        "outputId": "01a26881-88f4-413d-c98a-3c613a2500cc"
      },
      "outputs": [
        {
          "data": {
            "text/html": [
              "\n",
              "  <div id=\"df-52e9cd20-7cd9-465a-824c-74f703b2d9cc\">\n",
              "    <div class=\"colab-df-container\">\n",
              "      <div>\n",
              "<style scoped>\n",
              "    .dataframe tbody tr th:only-of-type {\n",
              "        vertical-align: middle;\n",
              "    }\n",
              "\n",
              "    .dataframe tbody tr th {\n",
              "        vertical-align: top;\n",
              "    }\n",
              "\n",
              "    .dataframe thead th {\n",
              "        text-align: right;\n",
              "    }\n",
              "</style>\n",
              "<table border=\"1\" class=\"dataframe\">\n",
              "  <thead>\n",
              "    <tr style=\"text-align: right;\">\n",
              "      <th></th>\n",
              "      <th>word</th>\n",
              "      <th>word_in_docs</th>\n",
              "      <th>count</th>\n",
              "      <th>rank</th>\n",
              "      <th>percent</th>\n",
              "      <th>cul_percent</th>\n",
              "      <th>word_in_docs_percent</th>\n",
              "    </tr>\n",
              "  </thead>\n",
              "  <tbody>\n",
              "    <tr>\n",
              "      <th>155</th>\n",
              "      <td>experience</td>\n",
              "      <td>691</td>\n",
              "      <td>2559</td>\n",
              "      <td>1</td>\n",
              "      <td>0.010416</td>\n",
              "      <td>0.010416</td>\n",
              "      <td>0.912814</td>\n",
              "    </tr>\n",
              "    <tr>\n",
              "      <th>345</th>\n",
              "      <td>team</td>\n",
              "      <td>630</td>\n",
              "      <td>2236</td>\n",
              "      <td>2</td>\n",
              "      <td>0.009102</td>\n",
              "      <td>0.019518</td>\n",
              "      <td>0.832232</td>\n",
              "    </tr>\n",
              "    <tr>\n",
              "      <th>520</th>\n",
              "      <td>business</td>\n",
              "      <td>530</td>\n",
              "      <td>2036</td>\n",
              "      <td>3</td>\n",
              "      <td>0.008287</td>\n",
              "      <td>0.027805</td>\n",
              "      <td>0.700132</td>\n",
              "    </tr>\n",
              "    <tr>\n",
              "      <th>137</th>\n",
              "      <td>analysis</td>\n",
              "      <td>536</td>\n",
              "      <td>1540</td>\n",
              "      <td>4</td>\n",
              "      <td>0.006269</td>\n",
              "      <td>0.034074</td>\n",
              "      <td>0.708058</td>\n",
              "    </tr>\n",
              "    <tr>\n",
              "      <th>119</th>\n",
              "      <td>model</td>\n",
              "      <td>517</td>\n",
              "      <td>1419</td>\n",
              "      <td>5</td>\n",
              "      <td>0.005776</td>\n",
              "      <td>0.039850</td>\n",
              "      <td>0.682959</td>\n",
              "    </tr>\n",
              "    <tr>\n",
              "      <th>139</th>\n",
              "      <td>product</td>\n",
              "      <td>439</td>\n",
              "      <td>1201</td>\n",
              "      <td>6</td>\n",
              "      <td>0.004889</td>\n",
              "      <td>0.044739</td>\n",
              "      <td>0.579921</td>\n",
              "    </tr>\n",
              "    <tr>\n",
              "      <th>88</th>\n",
              "      <td>skill</td>\n",
              "      <td>537</td>\n",
              "      <td>1189</td>\n",
              "      <td>7</td>\n",
              "      <td>0.004840</td>\n",
              "      <td>0.049578</td>\n",
              "      <td>0.709379</td>\n",
              "    </tr>\n",
              "    <tr>\n",
              "      <th>50</th>\n",
              "      <td>include</td>\n",
              "      <td>509</td>\n",
              "      <td>1176</td>\n",
              "      <td>8</td>\n",
              "      <td>0.004787</td>\n",
              "      <td>0.054365</td>\n",
              "      <td>0.672391</td>\n",
              "    </tr>\n",
              "    <tr>\n",
              "      <th>271</th>\n",
              "      <td>analytic</td>\n",
              "      <td>422</td>\n",
              "      <td>1146</td>\n",
              "      <td>9</td>\n",
              "      <td>0.004665</td>\n",
              "      <td>0.059030</td>\n",
              "      <td>0.557464</td>\n",
              "    </tr>\n",
              "    <tr>\n",
              "      <th>493</th>\n",
              "      <td>Experience</td>\n",
              "      <td>450</td>\n",
              "      <td>1099</td>\n",
              "      <td>10</td>\n",
              "      <td>0.004473</td>\n",
              "      <td>0.063503</td>\n",
              "      <td>0.594452</td>\n",
              "    </tr>\n",
              "  </tbody>\n",
              "</table>\n",
              "</div>\n",
              "      <button class=\"colab-df-convert\" onclick=\"convertToInteractive('df-52e9cd20-7cd9-465a-824c-74f703b2d9cc')\"\n",
              "              title=\"Convert this dataframe to an interactive table.\"\n",
              "              style=\"display:none;\">\n",
              "        \n",
              "  <svg xmlns=\"http://www.w3.org/2000/svg\" height=\"24px\"viewBox=\"0 0 24 24\"\n",
              "       width=\"24px\">\n",
              "    <path d=\"M0 0h24v24H0V0z\" fill=\"none\"/>\n",
              "    <path d=\"M18.56 5.44l.94 2.06.94-2.06 2.06-.94-2.06-.94-.94-2.06-.94 2.06-2.06.94zm-11 1L8.5 8.5l.94-2.06 2.06-.94-2.06-.94L8.5 2.5l-.94 2.06-2.06.94zm10 10l.94 2.06.94-2.06 2.06-.94-2.06-.94-.94-2.06-.94 2.06-2.06.94z\"/><path d=\"M17.41 7.96l-1.37-1.37c-.4-.4-.92-.59-1.43-.59-.52 0-1.04.2-1.43.59L10.3 9.45l-7.72 7.72c-.78.78-.78 2.05 0 2.83L4 21.41c.39.39.9.59 1.41.59.51 0 1.02-.2 1.41-.59l7.78-7.78 2.81-2.81c.8-.78.8-2.07 0-2.86zM5.41 20L4 18.59l7.72-7.72 1.47 1.35L5.41 20z\"/>\n",
              "  </svg>\n",
              "      </button>\n",
              "      \n",
              "  <style>\n",
              "    .colab-df-container {\n",
              "      display:flex;\n",
              "      flex-wrap:wrap;\n",
              "      gap: 12px;\n",
              "    }\n",
              "\n",
              "    .colab-df-convert {\n",
              "      background-color: #E8F0FE;\n",
              "      border: none;\n",
              "      border-radius: 50%;\n",
              "      cursor: pointer;\n",
              "      display: none;\n",
              "      fill: #1967D2;\n",
              "      height: 32px;\n",
              "      padding: 0 0 0 0;\n",
              "      width: 32px;\n",
              "    }\n",
              "\n",
              "    .colab-df-convert:hover {\n",
              "      background-color: #E2EBFA;\n",
              "      box-shadow: 0px 1px 2px rgba(60, 64, 67, 0.3), 0px 1px 3px 1px rgba(60, 64, 67, 0.15);\n",
              "      fill: #174EA6;\n",
              "    }\n",
              "\n",
              "    [theme=dark] .colab-df-convert {\n",
              "      background-color: #3B4455;\n",
              "      fill: #D2E3FC;\n",
              "    }\n",
              "\n",
              "    [theme=dark] .colab-df-convert:hover {\n",
              "      background-color: #434B5C;\n",
              "      box-shadow: 0px 1px 3px 1px rgba(0, 0, 0, 0.15);\n",
              "      filter: drop-shadow(0px 1px 2px rgba(0, 0, 0, 0.3));\n",
              "      fill: #FFFFFF;\n",
              "    }\n",
              "  </style>\n",
              "\n",
              "      <script>\n",
              "        const buttonEl =\n",
              "          document.querySelector('#df-52e9cd20-7cd9-465a-824c-74f703b2d9cc button.colab-df-convert');\n",
              "        buttonEl.style.display =\n",
              "          google.colab.kernel.accessAllowed ? 'block' : 'none';\n",
              "\n",
              "        async function convertToInteractive(key) {\n",
              "          const element = document.querySelector('#df-52e9cd20-7cd9-465a-824c-74f703b2d9cc');\n",
              "          const dataTable =\n",
              "            await google.colab.kernel.invokeFunction('convertToInteractive',\n",
              "                                                     [key], {});\n",
              "          if (!dataTable) return;\n",
              "\n",
              "          const docLinkHtml = 'Like what you see? Visit the ' +\n",
              "            '<a target=\"_blank\" href=https://colab.research.google.com/notebooks/data_table.ipynb>data table notebook</a>'\n",
              "            + ' to learn more about interactive tables.';\n",
              "          element.innerHTML = '';\n",
              "          dataTable['output_type'] = 'display_data';\n",
              "          await google.colab.output.renderOutput(dataTable, element);\n",
              "          const docLink = document.createElement('div');\n",
              "          docLink.innerHTML = docLinkHtml;\n",
              "          element.appendChild(docLink);\n",
              "        }\n",
              "      </script>\n",
              "    </div>\n",
              "  </div>\n",
              "  "
            ],
            "text/plain": [
              "           word  word_in_docs  count  rank   percent  cul_percent  \\\n",
              "155  experience           691   2559     1  0.010416     0.010416   \n",
              "345        team           630   2236     2  0.009102     0.019518   \n",
              "520    business           530   2036     3  0.008287     0.027805   \n",
              "137    analysis           536   1540     4  0.006269     0.034074   \n",
              "119       model           517   1419     5  0.005776     0.039850   \n",
              "139     product           439   1201     6  0.004889     0.044739   \n",
              "88        skill           537   1189     7  0.004840     0.049578   \n",
              "50      include           509   1176     8  0.004787     0.054365   \n",
              "271    analytic           422   1146     9  0.004665     0.059030   \n",
              "493  Experience           450   1099    10  0.004473     0.063503   \n",
              "\n",
              "     word_in_docs_percent  \n",
              "155              0.912814  \n",
              "345              0.832232  \n",
              "520              0.700132  \n",
              "137              0.708058  \n",
              "119              0.682959  \n",
              "139              0.579921  \n",
              "88               0.709379  \n",
              "50               0.672391  \n",
              "271              0.557464  \n",
              "493              0.594452  "
            ]
          },
          "execution_count": 22,
          "metadata": {},
          "output_type": "execute_result"
        }
      ],
      "source": [
        "wc = word_count(df2['lemmas'])\n",
        "wc.head(10)"
      ]
    },
    {
      "cell_type": "markdown",
      "metadata": {
        "id": "_uSNuY9UUl7P"
      },
      "source": [
        "## 2. 유사한 문서 찾기"
      ]
    },
    {
      "cell_type": "markdown",
      "metadata": {
        "id": "Spn3AFhIZBC9"
      },
      "source": [
        "### 1) `TfidfVectorizer`를 이용해 각 문서들을 벡터화 한 후 KNN 모델을 만들고, <br/> 내가 원하는 `job description`을 질의해 가장 가까운 검색 결과들을 가져오고 분석"
      ]
    },
    {
      "cell_type": "markdown",
      "metadata": {
        "id": "WEtnD5gYZZ-c"
      },
      "source": [
        "- ** 88번 index의 `job description`와 5개의 가장 유사한 `job description`이 있는 index를 입력하기 **\n",
        "    - 답은 88번 인덱스를 포함\n",
        "    - `max_features = 3000` 으로 설정"
      ]
    },
    {
      "cell_type": "code",
      "execution_count": null,
      "metadata": {
        "id": "L2xY7nG5jKs-"
      },
      "outputs": [],
      "source": [
        "nlp = spacy.load(\"en_core_web_sm\")"
      ]
    },
    {
      "cell_type": "code",
      "execution_count": null,
      "metadata": {
        "colab": {
          "base_uri": "https://localhost:8080/",
          "height": 487
        },
        "id": "1ugdR87joFnb",
        "outputId": "5914e9ee-d20a-4d9b-ad17-1532023cd1ef"
      },
      "outputs": [
        {
          "data": {
            "text/html": [
              "\n",
              "  <div id=\"df-a7ca984a-664a-45a6-a27c-744ea9f4c749\">\n",
              "    <div class=\"colab-df-container\">\n",
              "      <div>\n",
              "<style scoped>\n",
              "    .dataframe tbody tr th:only-of-type {\n",
              "        vertical-align: middle;\n",
              "    }\n",
              "\n",
              "    .dataframe tbody tr th {\n",
              "        vertical-align: top;\n",
              "    }\n",
              "\n",
              "    .dataframe thead th {\n",
              "        text-align: right;\n",
              "    }\n",
              "</style>\n",
              "<table border=\"1\" class=\"dataframe\">\n",
              "  <thead>\n",
              "    <tr style=\"text-align: right;\">\n",
              "      <th></th>\n",
              "      <th>00</th>\n",
              "      <th>000</th>\n",
              "      <th>10</th>\n",
              "      <th>100</th>\n",
              "      <th>11</th>\n",
              "      <th>12</th>\n",
              "      <th>14</th>\n",
              "      <th>15</th>\n",
              "      <th>18</th>\n",
              "      <th>19</th>\n",
              "      <th>...</th>\n",
              "      <th>written</th>\n",
              "      <th>www</th>\n",
              "      <th>year</th>\n",
              "      <th>years</th>\n",
              "      <th>yelp</th>\n",
              "      <th>yes</th>\n",
              "      <th>york</th>\n",
              "      <th>yrs</th>\n",
              "      <th>zillow</th>\n",
              "      <th>zulily</th>\n",
              "    </tr>\n",
              "  </thead>\n",
              "  <tbody>\n",
              "    <tr>\n",
              "      <th>0</th>\n",
              "      <td>0.0</td>\n",
              "      <td>0.000000</td>\n",
              "      <td>0.05272</td>\n",
              "      <td>0.000000</td>\n",
              "      <td>0.0</td>\n",
              "      <td>0.0</td>\n",
              "      <td>0.0</td>\n",
              "      <td>0.0</td>\n",
              "      <td>0.0</td>\n",
              "      <td>0.0</td>\n",
              "      <td>...</td>\n",
              "      <td>0.000000</td>\n",
              "      <td>0.000000</td>\n",
              "      <td>0.000000</td>\n",
              "      <td>0.023379</td>\n",
              "      <td>0.0</td>\n",
              "      <td>0.000000</td>\n",
              "      <td>0.0</td>\n",
              "      <td>0.0</td>\n",
              "      <td>0.0</td>\n",
              "      <td>0.0</td>\n",
              "    </tr>\n",
              "    <tr>\n",
              "      <th>1</th>\n",
              "      <td>0.0</td>\n",
              "      <td>0.000000</td>\n",
              "      <td>0.00000</td>\n",
              "      <td>0.000000</td>\n",
              "      <td>0.0</td>\n",
              "      <td>0.0</td>\n",
              "      <td>0.0</td>\n",
              "      <td>0.0</td>\n",
              "      <td>0.0</td>\n",
              "      <td>0.0</td>\n",
              "      <td>...</td>\n",
              "      <td>0.000000</td>\n",
              "      <td>0.000000</td>\n",
              "      <td>0.000000</td>\n",
              "      <td>0.018485</td>\n",
              "      <td>0.0</td>\n",
              "      <td>0.000000</td>\n",
              "      <td>0.0</td>\n",
              "      <td>0.0</td>\n",
              "      <td>0.0</td>\n",
              "      <td>0.0</td>\n",
              "    </tr>\n",
              "    <tr>\n",
              "      <th>2</th>\n",
              "      <td>0.0</td>\n",
              "      <td>0.000000</td>\n",
              "      <td>0.00000</td>\n",
              "      <td>0.000000</td>\n",
              "      <td>0.0</td>\n",
              "      <td>0.0</td>\n",
              "      <td>0.0</td>\n",
              "      <td>0.0</td>\n",
              "      <td>0.0</td>\n",
              "      <td>0.0</td>\n",
              "      <td>...</td>\n",
              "      <td>0.058510</td>\n",
              "      <td>0.000000</td>\n",
              "      <td>0.000000</td>\n",
              "      <td>0.017488</td>\n",
              "      <td>0.0</td>\n",
              "      <td>0.000000</td>\n",
              "      <td>0.0</td>\n",
              "      <td>0.0</td>\n",
              "      <td>0.0</td>\n",
              "      <td>0.0</td>\n",
              "    </tr>\n",
              "    <tr>\n",
              "      <th>3</th>\n",
              "      <td>0.0</td>\n",
              "      <td>0.033337</td>\n",
              "      <td>0.00000</td>\n",
              "      <td>0.035082</td>\n",
              "      <td>0.0</td>\n",
              "      <td>0.0</td>\n",
              "      <td>0.0</td>\n",
              "      <td>0.0</td>\n",
              "      <td>0.0</td>\n",
              "      <td>0.0</td>\n",
              "      <td>...</td>\n",
              "      <td>0.000000</td>\n",
              "      <td>0.000000</td>\n",
              "      <td>0.060084</td>\n",
              "      <td>0.013012</td>\n",
              "      <td>0.0</td>\n",
              "      <td>0.000000</td>\n",
              "      <td>0.0</td>\n",
              "      <td>0.0</td>\n",
              "      <td>0.0</td>\n",
              "      <td>0.0</td>\n",
              "    </tr>\n",
              "    <tr>\n",
              "      <th>4</th>\n",
              "      <td>0.0</td>\n",
              "      <td>0.000000</td>\n",
              "      <td>0.00000</td>\n",
              "      <td>0.000000</td>\n",
              "      <td>0.0</td>\n",
              "      <td>0.0</td>\n",
              "      <td>0.0</td>\n",
              "      <td>0.0</td>\n",
              "      <td>0.0</td>\n",
              "      <td>0.0</td>\n",
              "      <td>...</td>\n",
              "      <td>0.000000</td>\n",
              "      <td>0.000000</td>\n",
              "      <td>0.000000</td>\n",
              "      <td>0.047268</td>\n",
              "      <td>0.0</td>\n",
              "      <td>0.000000</td>\n",
              "      <td>0.0</td>\n",
              "      <td>0.0</td>\n",
              "      <td>0.0</td>\n",
              "      <td>0.0</td>\n",
              "    </tr>\n",
              "    <tr>\n",
              "      <th>...</th>\n",
              "      <td>...</td>\n",
              "      <td>...</td>\n",
              "      <td>...</td>\n",
              "      <td>...</td>\n",
              "      <td>...</td>\n",
              "      <td>...</td>\n",
              "      <td>...</td>\n",
              "      <td>...</td>\n",
              "      <td>...</td>\n",
              "      <td>...</td>\n",
              "      <td>...</td>\n",
              "      <td>...</td>\n",
              "      <td>...</td>\n",
              "      <td>...</td>\n",
              "      <td>...</td>\n",
              "      <td>...</td>\n",
              "      <td>...</td>\n",
              "      <td>...</td>\n",
              "      <td>...</td>\n",
              "      <td>...</td>\n",
              "      <td>...</td>\n",
              "    </tr>\n",
              "    <tr>\n",
              "      <th>752</th>\n",
              "      <td>0.0</td>\n",
              "      <td>0.000000</td>\n",
              "      <td>0.00000</td>\n",
              "      <td>0.000000</td>\n",
              "      <td>0.0</td>\n",
              "      <td>0.0</td>\n",
              "      <td>0.0</td>\n",
              "      <td>0.0</td>\n",
              "      <td>0.0</td>\n",
              "      <td>0.0</td>\n",
              "      <td>...</td>\n",
              "      <td>0.000000</td>\n",
              "      <td>0.000000</td>\n",
              "      <td>0.000000</td>\n",
              "      <td>0.017653</td>\n",
              "      <td>0.0</td>\n",
              "      <td>0.000000</td>\n",
              "      <td>0.0</td>\n",
              "      <td>0.0</td>\n",
              "      <td>0.0</td>\n",
              "      <td>0.0</td>\n",
              "    </tr>\n",
              "    <tr>\n",
              "      <th>753</th>\n",
              "      <td>0.0</td>\n",
              "      <td>0.000000</td>\n",
              "      <td>0.00000</td>\n",
              "      <td>0.000000</td>\n",
              "      <td>0.0</td>\n",
              "      <td>0.0</td>\n",
              "      <td>0.0</td>\n",
              "      <td>0.0</td>\n",
              "      <td>0.0</td>\n",
              "      <td>0.0</td>\n",
              "      <td>...</td>\n",
              "      <td>0.028502</td>\n",
              "      <td>0.000000</td>\n",
              "      <td>0.000000</td>\n",
              "      <td>0.017038</td>\n",
              "      <td>0.0</td>\n",
              "      <td>0.000000</td>\n",
              "      <td>0.0</td>\n",
              "      <td>0.0</td>\n",
              "      <td>0.0</td>\n",
              "      <td>0.0</td>\n",
              "    </tr>\n",
              "    <tr>\n",
              "      <th>754</th>\n",
              "      <td>0.0</td>\n",
              "      <td>0.000000</td>\n",
              "      <td>0.00000</td>\n",
              "      <td>0.000000</td>\n",
              "      <td>0.0</td>\n",
              "      <td>0.0</td>\n",
              "      <td>0.0</td>\n",
              "      <td>0.0</td>\n",
              "      <td>0.0</td>\n",
              "      <td>0.0</td>\n",
              "      <td>...</td>\n",
              "      <td>0.026058</td>\n",
              "      <td>0.036732</td>\n",
              "      <td>0.000000</td>\n",
              "      <td>0.062308</td>\n",
              "      <td>0.0</td>\n",
              "      <td>0.000000</td>\n",
              "      <td>0.0</td>\n",
              "      <td>0.0</td>\n",
              "      <td>0.0</td>\n",
              "      <td>0.0</td>\n",
              "    </tr>\n",
              "    <tr>\n",
              "      <th>755</th>\n",
              "      <td>0.0</td>\n",
              "      <td>0.024906</td>\n",
              "      <td>0.00000</td>\n",
              "      <td>0.000000</td>\n",
              "      <td>0.0</td>\n",
              "      <td>0.0</td>\n",
              "      <td>0.0</td>\n",
              "      <td>0.0</td>\n",
              "      <td>0.0</td>\n",
              "      <td>0.0</td>\n",
              "      <td>...</td>\n",
              "      <td>0.000000</td>\n",
              "      <td>0.000000</td>\n",
              "      <td>0.000000</td>\n",
              "      <td>0.029165</td>\n",
              "      <td>0.0</td>\n",
              "      <td>0.000000</td>\n",
              "      <td>0.0</td>\n",
              "      <td>0.0</td>\n",
              "      <td>0.0</td>\n",
              "      <td>0.0</td>\n",
              "    </tr>\n",
              "    <tr>\n",
              "      <th>756</th>\n",
              "      <td>0.0</td>\n",
              "      <td>0.000000</td>\n",
              "      <td>0.00000</td>\n",
              "      <td>0.000000</td>\n",
              "      <td>0.0</td>\n",
              "      <td>0.0</td>\n",
              "      <td>0.0</td>\n",
              "      <td>0.0</td>\n",
              "      <td>0.0</td>\n",
              "      <td>0.0</td>\n",
              "      <td>...</td>\n",
              "      <td>0.029731</td>\n",
              "      <td>0.000000</td>\n",
              "      <td>0.000000</td>\n",
              "      <td>0.017773</td>\n",
              "      <td>0.0</td>\n",
              "      <td>0.061601</td>\n",
              "      <td>0.0</td>\n",
              "      <td>0.0</td>\n",
              "      <td>0.0</td>\n",
              "      <td>0.0</td>\n",
              "    </tr>\n",
              "  </tbody>\n",
              "</table>\n",
              "<p>757 rows × 3000 columns</p>\n",
              "</div>\n",
              "      <button class=\"colab-df-convert\" onclick=\"convertToInteractive('df-a7ca984a-664a-45a6-a27c-744ea9f4c749')\"\n",
              "              title=\"Convert this dataframe to an interactive table.\"\n",
              "              style=\"display:none;\">\n",
              "        \n",
              "  <svg xmlns=\"http://www.w3.org/2000/svg\" height=\"24px\"viewBox=\"0 0 24 24\"\n",
              "       width=\"24px\">\n",
              "    <path d=\"M0 0h24v24H0V0z\" fill=\"none\"/>\n",
              "    <path d=\"M18.56 5.44l.94 2.06.94-2.06 2.06-.94-2.06-.94-.94-2.06-.94 2.06-2.06.94zm-11 1L8.5 8.5l.94-2.06 2.06-.94-2.06-.94L8.5 2.5l-.94 2.06-2.06.94zm10 10l.94 2.06.94-2.06 2.06-.94-2.06-.94-.94-2.06-.94 2.06-2.06.94z\"/><path d=\"M17.41 7.96l-1.37-1.37c-.4-.4-.92-.59-1.43-.59-.52 0-1.04.2-1.43.59L10.3 9.45l-7.72 7.72c-.78.78-.78 2.05 0 2.83L4 21.41c.39.39.9.59 1.41.59.51 0 1.02-.2 1.41-.59l7.78-7.78 2.81-2.81c.8-.78.8-2.07 0-2.86zM5.41 20L4 18.59l7.72-7.72 1.47 1.35L5.41 20z\"/>\n",
              "  </svg>\n",
              "      </button>\n",
              "      \n",
              "  <style>\n",
              "    .colab-df-container {\n",
              "      display:flex;\n",
              "      flex-wrap:wrap;\n",
              "      gap: 12px;\n",
              "    }\n",
              "\n",
              "    .colab-df-convert {\n",
              "      background-color: #E8F0FE;\n",
              "      border: none;\n",
              "      border-radius: 50%;\n",
              "      cursor: pointer;\n",
              "      display: none;\n",
              "      fill: #1967D2;\n",
              "      height: 32px;\n",
              "      padding: 0 0 0 0;\n",
              "      width: 32px;\n",
              "    }\n",
              "\n",
              "    .colab-df-convert:hover {\n",
              "      background-color: #E2EBFA;\n",
              "      box-shadow: 0px 1px 2px rgba(60, 64, 67, 0.3), 0px 1px 3px 1px rgba(60, 64, 67, 0.15);\n",
              "      fill: #174EA6;\n",
              "    }\n",
              "\n",
              "    [theme=dark] .colab-df-convert {\n",
              "      background-color: #3B4455;\n",
              "      fill: #D2E3FC;\n",
              "    }\n",
              "\n",
              "    [theme=dark] .colab-df-convert:hover {\n",
              "      background-color: #434B5C;\n",
              "      box-shadow: 0px 1px 3px 1px rgba(0, 0, 0, 0.15);\n",
              "      filter: drop-shadow(0px 1px 2px rgba(0, 0, 0, 0.3));\n",
              "      fill: #FFFFFF;\n",
              "    }\n",
              "  </style>\n",
              "\n",
              "      <script>\n",
              "        const buttonEl =\n",
              "          document.querySelector('#df-a7ca984a-664a-45a6-a27c-744ea9f4c749 button.colab-df-convert');\n",
              "        buttonEl.style.display =\n",
              "          google.colab.kernel.accessAllowed ? 'block' : 'none';\n",
              "\n",
              "        async function convertToInteractive(key) {\n",
              "          const element = document.querySelector('#df-a7ca984a-664a-45a6-a27c-744ea9f4c749');\n",
              "          const dataTable =\n",
              "            await google.colab.kernel.invokeFunction('convertToInteractive',\n",
              "                                                     [key], {});\n",
              "          if (!dataTable) return;\n",
              "\n",
              "          const docLinkHtml = 'Like what you see? Visit the ' +\n",
              "            '<a target=\"_blank\" href=https://colab.research.google.com/notebooks/data_table.ipynb>data table notebook</a>'\n",
              "            + ' to learn more about interactive tables.';\n",
              "          element.innerHTML = '';\n",
              "          dataTable['output_type'] = 'display_data';\n",
              "          await google.colab.output.renderOutput(dataTable, element);\n",
              "          const docLink = document.createElement('div');\n",
              "          docLink.innerHTML = docLinkHtml;\n",
              "          element.appendChild(docLink);\n",
              "        }\n",
              "      </script>\n",
              "    </div>\n",
              "  </div>\n",
              "  "
            ],
            "text/plain": [
              "      00       000       10       100   11   12   14   15   18   19  ...  \\\n",
              "0    0.0  0.000000  0.05272  0.000000  0.0  0.0  0.0  0.0  0.0  0.0  ...   \n",
              "1    0.0  0.000000  0.00000  0.000000  0.0  0.0  0.0  0.0  0.0  0.0  ...   \n",
              "2    0.0  0.000000  0.00000  0.000000  0.0  0.0  0.0  0.0  0.0  0.0  ...   \n",
              "3    0.0  0.033337  0.00000  0.035082  0.0  0.0  0.0  0.0  0.0  0.0  ...   \n",
              "4    0.0  0.000000  0.00000  0.000000  0.0  0.0  0.0  0.0  0.0  0.0  ...   \n",
              "..   ...       ...      ...       ...  ...  ...  ...  ...  ...  ...  ...   \n",
              "752  0.0  0.000000  0.00000  0.000000  0.0  0.0  0.0  0.0  0.0  0.0  ...   \n",
              "753  0.0  0.000000  0.00000  0.000000  0.0  0.0  0.0  0.0  0.0  0.0  ...   \n",
              "754  0.0  0.000000  0.00000  0.000000  0.0  0.0  0.0  0.0  0.0  0.0  ...   \n",
              "755  0.0  0.024906  0.00000  0.000000  0.0  0.0  0.0  0.0  0.0  0.0  ...   \n",
              "756  0.0  0.000000  0.00000  0.000000  0.0  0.0  0.0  0.0  0.0  0.0  ...   \n",
              "\n",
              "      written       www      year     years  yelp       yes  york  yrs  \\\n",
              "0    0.000000  0.000000  0.000000  0.023379   0.0  0.000000   0.0  0.0   \n",
              "1    0.000000  0.000000  0.000000  0.018485   0.0  0.000000   0.0  0.0   \n",
              "2    0.058510  0.000000  0.000000  0.017488   0.0  0.000000   0.0  0.0   \n",
              "3    0.000000  0.000000  0.060084  0.013012   0.0  0.000000   0.0  0.0   \n",
              "4    0.000000  0.000000  0.000000  0.047268   0.0  0.000000   0.0  0.0   \n",
              "..        ...       ...       ...       ...   ...       ...   ...  ...   \n",
              "752  0.000000  0.000000  0.000000  0.017653   0.0  0.000000   0.0  0.0   \n",
              "753  0.028502  0.000000  0.000000  0.017038   0.0  0.000000   0.0  0.0   \n",
              "754  0.026058  0.036732  0.000000  0.062308   0.0  0.000000   0.0  0.0   \n",
              "755  0.000000  0.000000  0.000000  0.029165   0.0  0.000000   0.0  0.0   \n",
              "756  0.029731  0.000000  0.000000  0.017773   0.0  0.061601   0.0  0.0   \n",
              "\n",
              "     zillow  zulily  \n",
              "0       0.0     0.0  \n",
              "1       0.0     0.0  \n",
              "2       0.0     0.0  \n",
              "3       0.0     0.0  \n",
              "4       0.0     0.0  \n",
              "..      ...     ...  \n",
              "752     0.0     0.0  \n",
              "753     0.0     0.0  \n",
              "754     0.0     0.0  \n",
              "755     0.0     0.0  \n",
              "756     0.0     0.0  \n",
              "\n",
              "[757 rows x 3000 columns]"
            ]
          },
          "execution_count": 24,
          "metadata": {},
          "output_type": "execute_result"
        }
      ],
      "source": [
        "tfidf = TfidfVectorizer(stop_words='english', max_features=3000)\n",
        "\n",
        "dtm_tfidf = tfidf.fit_transform(df2['description'])\n",
        "\n",
        "dtm_tfidf = pd.DataFrame(dtm_tfidf.todense(), columns=tfidf.get_feature_names())\n",
        "dtm_tfidf"
      ]
    },
    {
      "cell_type": "code",
      "execution_count": null,
      "metadata": {
        "colab": {
          "base_uri": "https://localhost:8080/"
        },
        "id": "19xjR5eFo_Ig",
        "outputId": "a89ca873-f630-45dc-def7-21cd431e1fba"
      },
      "outputs": [
        {
          "data": {
            "text/plain": [
              "NearestNeighbors(algorithm='kd_tree')"
            ]
          },
          "execution_count": 25,
          "metadata": {},
          "output_type": "execute_result"
        }
      ],
      "source": [
        "#dtm을 knn으로 학습\n",
        "nn = NearestNeighbors(n_neighbors=5, algorithm='kd_tree') \n",
        "nn.fit(dtm_tfidf)"
      ]
    },
    {
      "cell_type": "code",
      "execution_count": null,
      "metadata": {
        "colab": {
          "base_uri": "https://localhost:8080/"
        },
        "id": "ccDib3j4pSv4",
        "outputId": "5aa49ba6-2852-4f4b-d409-dacb14e33b96"
      },
      "outputs": [
        {
          "data": {
            "text/plain": [
              "(array([[0.        , 0.08253523, 0.1293321 , 1.29275998, 1.3027987 ]]),\n",
              " array([[ 88, 268, 267, 525, 509]]))"
            ]
          },
          "execution_count": 26,
          "metadata": {},
          "output_type": "execute_result"
        }
      ],
      "source": [
        "#인덱스 88문서와 비슷한 문서 검색\n",
        "nn.kneighbors([dtm_tfidf.iloc[88]])"
      ]
    },
    {
      "cell_type": "markdown",
      "metadata": {
        "id": "K9i7ek3_Lpiq"
      },
      "source": [
        "## 3. TF-IDF 이용한 텍스트 분류 진행하기"
      ]
    },
    {
      "cell_type": "markdown",
      "metadata": {
        "id": "WGNgfmzmLpiq"
      },
      "source": [
        "TF-IDF를 이용해 문장 혹은 문서를 벡터화한 경우, 이 벡터값을 이용해 문서 분류 태스크를 진행할 수 있으며,\n",
        "\n",
        "현재 다루고 있는 데이터셋에는 label이 존재하지 않으므로, title 컬럼에 \"Senior\"가 있는지 없는지 여부를 통해 Senior 직무 여부를 분류하는 작업을 진행하기"
      ]
    },
    {
      "cell_type": "markdown",
      "metadata": {
        "id": "9g1lv5nELpiq"
      },
      "source": [
        "### 1) title 컬럼에 \"Senior\" 문자열이 있으면 1, 없으면 0인 \"Senior\"라는 새로운 컬럼을 생성하기"
      ]
    },
    {
      "cell_type": "markdown",
      "metadata": {
        "id": "iyVmYpjqLpiq"
      },
      "source": [
        "새롭게 만든 Senior 컬럼에서 값이 1인 (Senior O) 데이터의 개수는?"
      ]
    },
    {
      "cell_type": "code",
      "execution_count": null,
      "metadata": {
        "id": "oEtOtiYBLpiq"
      },
      "outputs": [],
      "source": [
        "df2['senior'] = df2['title'].apply(lambda x: 1 if \"Senior\" in x else 0)"
      ]
    },
    {
      "cell_type": "code",
      "execution_count": null,
      "metadata": {
        "colab": {
          "base_uri": "https://localhost:8080/"
        },
        "id": "d3itwn14qCOX",
        "outputId": "9b3cd25f-28ff-4388-e28a-e451a166f5e7"
      },
      "outputs": [
        {
          "data": {
            "text/plain": [
              "0    662\n",
              "1     95\n",
              "Name: senior, dtype: int64"
            ]
          },
          "execution_count": 28,
          "metadata": {},
          "output_type": "execute_result"
        }
      ],
      "source": [
        "df2['senior'].value_counts()"
      ]
    },
    {
      "cell_type": "markdown",
      "metadata": {
        "id": "LnPCgoYXLpiq"
      },
      "source": [
        "sklearn의 `train_test_split`을 통해 train 데이터와 valid 데이터로 나눈 후, `sklearn`의 `DecisionTreeClassifier`를 이용해 분류를 진행 \n",
        "\n",
        "단, x값은 위에서 학습한 dtm_tfidf를 그대로 이용하고, train_test_split과 DecisionTreeClassifier의 random_state을 42로 고정하고, test_size는 0.1로 설정\n",
        "\n",
        "학습을 완료한 후, test 데이터에 대한 예측을 진행하고 label 1에 대한 precision과 recall 값을 적기"
      ]
    },
    {
      "cell_type": "code",
      "execution_count": null,
      "metadata": {
        "id": "PHCATtY8cX5b"
      },
      "outputs": [],
      "source": [
        "X_train, X_val, y_train, y_val = train_test_split(dtm_tfidf,df2['senior'],test_size=0.1, random_state=42)"
      ]
    },
    {
      "cell_type": "code",
      "execution_count": null,
      "metadata": {
        "colab": {
          "base_uri": "https://localhost:8080/"
        },
        "id": "GrGeR8xFrUIN",
        "outputId": "2715fc45-d11f-4fc1-a757-2b049ac0288e"
      },
      "outputs": [
        {
          "data": {
            "text/plain": [
              "DecisionTreeClassifier(random_state=42)"
            ]
          },
          "execution_count": 30,
          "metadata": {},
          "output_type": "execute_result"
        }
      ],
      "source": [
        "dtc = DecisionTreeClassifier(random_state=42)\n",
        "dtc.fit(X_train, y_train)"
      ]
    },
    {
      "cell_type": "code",
      "execution_count": null,
      "metadata": {
        "colab": {
          "base_uri": "https://localhost:8080/"
        },
        "id": "bkfgKA6erqi7",
        "outputId": "86d99001-e646-4c9e-c08f-400402dac270"
      },
      "outputs": [
        {
          "name": "stdout",
          "output_type": "stream",
          "text": [
            "              precision    recall  f1-score   support\n",
            "\n",
            "           0       0.90      0.84      0.87        67\n",
            "           1       0.21      0.33      0.26         9\n",
            "\n",
            "    accuracy                           0.78        76\n",
            "   macro avg       0.56      0.58      0.56        76\n",
            "weighted avg       0.82      0.78      0.80        76\n",
            "\n"
          ]
        }
      ],
      "source": [
        "pred = dtc.predict(X_val)\n",
        "print(classification_report(y_val, pred))"
      ]
    }
  ],
  "metadata": {
    "colab": {
      "name": "N421a_Count-based_Representation.ipynb",
      "provenance": []
    },
    "kernelspec": {
      "display_name": "Python 3.8.13 ('s1n1')",
      "language": "python",
      "name": "python3"
    },
    "language_info": {
      "codemirror_mode": {
        "name": "ipython",
        "version": 3
      },
      "file_extension": ".py",
      "mimetype": "text/x-python",
      "name": "python",
      "nbconvert_exporter": "python",
      "pygments_lexer": "ipython3",
      "version": "3.8.13"
    },
    "toc-autonumbering": false,
    "vscode": {
      "interpreter": {
        "hash": "078b936573ee91fd7cfd3c845d42b329f9202605200ef02f5fc1ba2441611771"
      }
    }
  },
  "nbformat": 4,
  "nbformat_minor": 0
}
